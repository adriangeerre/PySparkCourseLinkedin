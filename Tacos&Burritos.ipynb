{
 "cells": [
  {
   "cell_type": "markdown",
   "metadata": {},
   "source": [
    "### TACOS AND BURRITOS - EXERCISE"
   ]
  },
  {
   "cell_type": "markdown",
   "metadata": {},
   "source": [
    "**System:**\n",
    "    \n",
    "    CPU: i7-7700HQ 2.80GHz\n",
    "    Cores: 8\n",
    "    RAM: 16GB\n",
    "    OS: Linux Mint 19\n",
    "    \n",
    "**Software**\n",
    "    \n",
    "    Python: 3.7.9\n",
    "    Apache Spark: 2.4.0\n",
    "\n",
    "**Dataset**\n",
    "\n",
    "    Restaurants That Sell Tacos and Burritos (Kaggel)\n",
    "    https://developer.datafiniti.co/docs/business-data-schema (Support information)\n",
    "\n",
    "**Tasks:**\n",
    "\n",
    "    1. Explore and clean the column 'cuisines'.\n",
    "    2. Create a ranking of most popular cuisines. (Hint: MapReduce - Flatmap)"
   ]
  },
  {
   "cell_type": "markdown",
   "metadata": {},
   "source": [
    "#### SOLUTION (PANDAS)"
   ]
  },
  {
   "cell_type": "markdown",
   "metadata": {},
   "source": [
    "**Load packages and data**"
   ]
  },
  {
   "cell_type": "code",
   "execution_count": 266,
   "metadata": {},
   "outputs": [],
   "source": [
    "import pandas as pd\n",
    "\n",
    "df = pd.read_csv(\"/home/agomez/MEGA/Cursos/Linkedin-Spark/tacos_and_burritos.csv\")"
   ]
  },
  {
   "cell_type": "markdown",
   "metadata": {},
   "source": [
    "**Dataframe summary**"
   ]
  },
  {
   "cell_type": "code",
   "execution_count": 179,
   "metadata": {},
   "outputs": [
    {
     "data": {
      "text/plain": [
       "77260"
      ]
     },
     "execution_count": 179,
     "metadata": {},
     "output_type": "execute_result"
    }
   ],
   "source": [
    "len(df)"
   ]
  },
  {
   "cell_type": "code",
   "execution_count": 180,
   "metadata": {},
   "outputs": [
    {
     "data": {
      "text/html": [
       "<div>\n",
       "<style scoped>\n",
       "    .dataframe tbody tr th:only-of-type {\n",
       "        vertical-align: middle;\n",
       "    }\n",
       "\n",
       "    .dataframe tbody tr th {\n",
       "        vertical-align: top;\n",
       "    }\n",
       "\n",
       "    .dataframe thead th {\n",
       "        text-align: right;\n",
       "    }\n",
       "</style>\n",
       "<table border=\"1\" class=\"dataframe\">\n",
       "  <thead>\n",
       "    <tr style=\"text-align: right;\">\n",
       "      <th></th>\n",
       "      <th>latitude</th>\n",
       "      <th>longitude</th>\n",
       "      <th>menus.amountMax</th>\n",
       "      <th>menus.amountMin</th>\n",
       "      <th>priceRangeMin</th>\n",
       "      <th>priceRangeMax</th>\n",
       "      <th>Unnamed: 26</th>\n",
       "      <th>Unnamed: 27</th>\n",
       "      <th>Unnamed: 28</th>\n",
       "      <th>Unnamed: 29</th>\n",
       "      <th>...</th>\n",
       "      <th>Unnamed: 226</th>\n",
       "      <th>Unnamed: 227</th>\n",
       "      <th>Unnamed: 228</th>\n",
       "      <th>Unnamed: 229</th>\n",
       "      <th>Unnamed: 230</th>\n",
       "      <th>Unnamed: 231</th>\n",
       "      <th>Unnamed: 232</th>\n",
       "      <th>Unnamed: 233</th>\n",
       "      <th>Unnamed: 234</th>\n",
       "      <th>Unnamed: 235</th>\n",
       "    </tr>\n",
       "  </thead>\n",
       "  <tbody>\n",
       "    <tr>\n",
       "      <th>count</th>\n",
       "      <td>55636.000000</td>\n",
       "      <td>55636.000000</td>\n",
       "      <td>40260.000000</td>\n",
       "      <td>40260.000000</td>\n",
       "      <td>48159.000000</td>\n",
       "      <td>48159.000000</td>\n",
       "      <td>0.0</td>\n",
       "      <td>0.0</td>\n",
       "      <td>0.0</td>\n",
       "      <td>0.0</td>\n",
       "      <td>...</td>\n",
       "      <td>0.0</td>\n",
       "      <td>0.0</td>\n",
       "      <td>0.0</td>\n",
       "      <td>0.0</td>\n",
       "      <td>0.0</td>\n",
       "      <td>0.0</td>\n",
       "      <td>0.0</td>\n",
       "      <td>0.0</td>\n",
       "      <td>0.0</td>\n",
       "      <td>0.0</td>\n",
       "    </tr>\n",
       "    <tr>\n",
       "      <th>mean</th>\n",
       "      <td>36.694846</td>\n",
       "      <td>-98.713309</td>\n",
       "      <td>8.754767</td>\n",
       "      <td>8.611666</td>\n",
       "      <td>13.734837</td>\n",
       "      <td>33.722627</td>\n",
       "      <td>NaN</td>\n",
       "      <td>NaN</td>\n",
       "      <td>NaN</td>\n",
       "      <td>NaN</td>\n",
       "      <td>...</td>\n",
       "      <td>NaN</td>\n",
       "      <td>NaN</td>\n",
       "      <td>NaN</td>\n",
       "      <td>NaN</td>\n",
       "      <td>NaN</td>\n",
       "      <td>NaN</td>\n",
       "      <td>NaN</td>\n",
       "      <td>NaN</td>\n",
       "      <td>NaN</td>\n",
       "      <td>NaN</td>\n",
       "    </tr>\n",
       "    <tr>\n",
       "      <th>std</th>\n",
       "      <td>4.835124</td>\n",
       "      <td>18.245857</td>\n",
       "      <td>18.408596</td>\n",
       "      <td>15.708317</td>\n",
       "      <td>14.704344</td>\n",
       "      <td>10.395812</td>\n",
       "      <td>NaN</td>\n",
       "      <td>NaN</td>\n",
       "      <td>NaN</td>\n",
       "      <td>NaN</td>\n",
       "      <td>...</td>\n",
       "      <td>NaN</td>\n",
       "      <td>NaN</td>\n",
       "      <td>NaN</td>\n",
       "      <td>NaN</td>\n",
       "      <td>NaN</td>\n",
       "      <td>NaN</td>\n",
       "      <td>NaN</td>\n",
       "      <td>NaN</td>\n",
       "      <td>NaN</td>\n",
       "      <td>NaN</td>\n",
       "    </tr>\n",
       "    <tr>\n",
       "      <th>min</th>\n",
       "      <td>-31.986438</td>\n",
       "      <td>-159.492690</td>\n",
       "      <td>0.000000</td>\n",
       "      <td>0.000000</td>\n",
       "      <td>0.000000</td>\n",
       "      <td>5.000000</td>\n",
       "      <td>NaN</td>\n",
       "      <td>NaN</td>\n",
       "      <td>NaN</td>\n",
       "      <td>NaN</td>\n",
       "      <td>...</td>\n",
       "      <td>NaN</td>\n",
       "      <td>NaN</td>\n",
       "      <td>NaN</td>\n",
       "      <td>NaN</td>\n",
       "      <td>NaN</td>\n",
       "      <td>NaN</td>\n",
       "      <td>NaN</td>\n",
       "      <td>NaN</td>\n",
       "      <td>NaN</td>\n",
       "      <td>NaN</td>\n",
       "    </tr>\n",
       "    <tr>\n",
       "      <th>25%</th>\n",
       "      <td>33.668355</td>\n",
       "      <td>-117.647150</td>\n",
       "      <td>5.000000</td>\n",
       "      <td>5.000000</td>\n",
       "      <td>0.000000</td>\n",
       "      <td>25.000000</td>\n",
       "      <td>NaN</td>\n",
       "      <td>NaN</td>\n",
       "      <td>NaN</td>\n",
       "      <td>NaN</td>\n",
       "      <td>...</td>\n",
       "      <td>NaN</td>\n",
       "      <td>NaN</td>\n",
       "      <td>NaN</td>\n",
       "      <td>NaN</td>\n",
       "      <td>NaN</td>\n",
       "      <td>NaN</td>\n",
       "      <td>NaN</td>\n",
       "      <td>NaN</td>\n",
       "      <td>NaN</td>\n",
       "      <td>NaN</td>\n",
       "    </tr>\n",
       "    <tr>\n",
       "      <th>50%</th>\n",
       "      <td>36.047195</td>\n",
       "      <td>-96.682320</td>\n",
       "      <td>7.950000</td>\n",
       "      <td>7.950000</td>\n",
       "      <td>25.000000</td>\n",
       "      <td>40.000000</td>\n",
       "      <td>NaN</td>\n",
       "      <td>NaN</td>\n",
       "      <td>NaN</td>\n",
       "      <td>NaN</td>\n",
       "      <td>...</td>\n",
       "      <td>NaN</td>\n",
       "      <td>NaN</td>\n",
       "      <td>NaN</td>\n",
       "      <td>NaN</td>\n",
       "      <td>NaN</td>\n",
       "      <td>NaN</td>\n",
       "      <td>NaN</td>\n",
       "      <td>NaN</td>\n",
       "      <td>NaN</td>\n",
       "      <td>NaN</td>\n",
       "    </tr>\n",
       "    <tr>\n",
       "      <th>75%</th>\n",
       "      <td>40.588380</td>\n",
       "      <td>-82.679930</td>\n",
       "      <td>10.500000</td>\n",
       "      <td>10.390000</td>\n",
       "      <td>25.000000</td>\n",
       "      <td>40.000000</td>\n",
       "      <td>NaN</td>\n",
       "      <td>NaN</td>\n",
       "      <td>NaN</td>\n",
       "      <td>NaN</td>\n",
       "      <td>...</td>\n",
       "      <td>NaN</td>\n",
       "      <td>NaN</td>\n",
       "      <td>NaN</td>\n",
       "      <td>NaN</td>\n",
       "      <td>NaN</td>\n",
       "      <td>NaN</td>\n",
       "      <td>NaN</td>\n",
       "      <td>NaN</td>\n",
       "      <td>NaN</td>\n",
       "      <td>NaN</td>\n",
       "    </tr>\n",
       "    <tr>\n",
       "      <th>max</th>\n",
       "      <td>61.219460</td>\n",
       "      <td>115.903696</td>\n",
       "      <td>1990.000000</td>\n",
       "      <td>1290.000000</td>\n",
       "      <td>378.000000</td>\n",
       "      <td>755.000000</td>\n",
       "      <td>NaN</td>\n",
       "      <td>NaN</td>\n",
       "      <td>NaN</td>\n",
       "      <td>NaN</td>\n",
       "      <td>...</td>\n",
       "      <td>NaN</td>\n",
       "      <td>NaN</td>\n",
       "      <td>NaN</td>\n",
       "      <td>NaN</td>\n",
       "      <td>NaN</td>\n",
       "      <td>NaN</td>\n",
       "      <td>NaN</td>\n",
       "      <td>NaN</td>\n",
       "      <td>NaN</td>\n",
       "      <td>NaN</td>\n",
       "    </tr>\n",
       "  </tbody>\n",
       "</table>\n",
       "<p>8 rows × 216 columns</p>\n",
       "</div>"
      ],
      "text/plain": [
       "           latitude     longitude  menus.amountMax  menus.amountMin  \\\n",
       "count  55636.000000  55636.000000     40260.000000     40260.000000   \n",
       "mean      36.694846    -98.713309         8.754767         8.611666   \n",
       "std        4.835124     18.245857        18.408596        15.708317   \n",
       "min      -31.986438   -159.492690         0.000000         0.000000   \n",
       "25%       33.668355   -117.647150         5.000000         5.000000   \n",
       "50%       36.047195    -96.682320         7.950000         7.950000   \n",
       "75%       40.588380    -82.679930        10.500000        10.390000   \n",
       "max       61.219460    115.903696      1990.000000      1290.000000   \n",
       "\n",
       "       priceRangeMin  priceRangeMax  Unnamed: 26  Unnamed: 27  Unnamed: 28  \\\n",
       "count   48159.000000   48159.000000          0.0          0.0          0.0   \n",
       "mean       13.734837      33.722627          NaN          NaN          NaN   \n",
       "std        14.704344      10.395812          NaN          NaN          NaN   \n",
       "min         0.000000       5.000000          NaN          NaN          NaN   \n",
       "25%         0.000000      25.000000          NaN          NaN          NaN   \n",
       "50%        25.000000      40.000000          NaN          NaN          NaN   \n",
       "75%        25.000000      40.000000          NaN          NaN          NaN   \n",
       "max       378.000000     755.000000          NaN          NaN          NaN   \n",
       "\n",
       "       Unnamed: 29  ...  Unnamed: 226  Unnamed: 227  Unnamed: 228  \\\n",
       "count          0.0  ...           0.0           0.0           0.0   \n",
       "mean           NaN  ...           NaN           NaN           NaN   \n",
       "std            NaN  ...           NaN           NaN           NaN   \n",
       "min            NaN  ...           NaN           NaN           NaN   \n",
       "25%            NaN  ...           NaN           NaN           NaN   \n",
       "50%            NaN  ...           NaN           NaN           NaN   \n",
       "75%            NaN  ...           NaN           NaN           NaN   \n",
       "max            NaN  ...           NaN           NaN           NaN   \n",
       "\n",
       "       Unnamed: 229  Unnamed: 230  Unnamed: 231  Unnamed: 232  Unnamed: 233  \\\n",
       "count           0.0           0.0           0.0           0.0           0.0   \n",
       "mean            NaN           NaN           NaN           NaN           NaN   \n",
       "std             NaN           NaN           NaN           NaN           NaN   \n",
       "min             NaN           NaN           NaN           NaN           NaN   \n",
       "25%             NaN           NaN           NaN           NaN           NaN   \n",
       "50%             NaN           NaN           NaN           NaN           NaN   \n",
       "75%             NaN           NaN           NaN           NaN           NaN   \n",
       "max             NaN           NaN           NaN           NaN           NaN   \n",
       "\n",
       "       Unnamed: 234  Unnamed: 235  \n",
       "count           0.0           0.0  \n",
       "mean            NaN           NaN  \n",
       "std             NaN           NaN  \n",
       "min             NaN           NaN  \n",
       "25%             NaN           NaN  \n",
       "50%             NaN           NaN  \n",
       "75%             NaN           NaN  \n",
       "max             NaN           NaN  \n",
       "\n",
       "[8 rows x 216 columns]"
      ]
     },
     "execution_count": 180,
     "metadata": {},
     "output_type": "execute_result"
    }
   ],
   "source": [
    "df.describe() # Numerical columns"
   ]
  },
  {
   "cell_type": "code",
   "execution_count": 133,
   "metadata": {},
   "outputs": [
    {
     "data": {
      "text/html": [
       "<div>\n",
       "<style scoped>\n",
       "    .dataframe tbody tr th:only-of-type {\n",
       "        vertical-align: middle;\n",
       "    }\n",
       "\n",
       "    .dataframe tbody tr th {\n",
       "        vertical-align: top;\n",
       "    }\n",
       "\n",
       "    .dataframe thead th {\n",
       "        text-align: right;\n",
       "    }\n",
       "</style>\n",
       "<table border=\"1\" class=\"dataframe\">\n",
       "  <thead>\n",
       "    <tr style=\"text-align: right;\">\n",
       "      <th></th>\n",
       "      <th>id</th>\n",
       "      <th>address</th>\n",
       "      <th>categories</th>\n",
       "      <th>city</th>\n",
       "      <th>country</th>\n",
       "      <th>cuisines</th>\n",
       "      <th>dateAdded</th>\n",
       "      <th>dateUpdated</th>\n",
       "      <th>keys</th>\n",
       "      <th>menuPageURL</th>\n",
       "      <th>menus.category</th>\n",
       "      <th>menus.currency</th>\n",
       "      <th>menus.dateSeen</th>\n",
       "      <th>menus.description</th>\n",
       "      <th>menus.name</th>\n",
       "      <th>name</th>\n",
       "      <th>postalCode</th>\n",
       "      <th>priceRangeCurrency</th>\n",
       "      <th>province</th>\n",
       "      <th>websites</th>\n",
       "    </tr>\n",
       "  </thead>\n",
       "  <tbody>\n",
       "    <tr>\n",
       "      <th>count</th>\n",
       "      <td>77260</td>\n",
       "      <td>77260</td>\n",
       "      <td>77260</td>\n",
       "      <td>77260</td>\n",
       "      <td>77260</td>\n",
       "      <td>38384</td>\n",
       "      <td>77260</td>\n",
       "      <td>77260</td>\n",
       "      <td>77260</td>\n",
       "      <td>10054</td>\n",
       "      <td>3729</td>\n",
       "      <td>40511</td>\n",
       "      <td>77260</td>\n",
       "      <td>29323</td>\n",
       "      <td>77260</td>\n",
       "      <td>77257</td>\n",
       "      <td>76837</td>\n",
       "      <td>48159</td>\n",
       "      <td>77257</td>\n",
       "      <td>55989</td>\n",
       "    </tr>\n",
       "    <tr>\n",
       "      <th>unique</th>\n",
       "      <td>19439</td>\n",
       "      <td>18618</td>\n",
       "      <td>8488</td>\n",
       "      <td>3601</td>\n",
       "      <td>1</td>\n",
       "      <td>1588</td>\n",
       "      <td>17965</td>\n",
       "      <td>17675</td>\n",
       "      <td>19438</td>\n",
       "      <td>2600</td>\n",
       "      <td>962</td>\n",
       "      <td>2</td>\n",
       "      <td>18453</td>\n",
       "      <td>15730</td>\n",
       "      <td>15737</td>\n",
       "      <td>10526</td>\n",
       "      <td>7463</td>\n",
       "      <td>2</td>\n",
       "      <td>1097</td>\n",
       "      <td>9238</td>\n",
       "    </tr>\n",
       "    <tr>\n",
       "      <th>top</th>\n",
       "      <td>AVwch4pVByjofQCxfPyl</td>\n",
       "      <td>3000 N Dinuba Blvd</td>\n",
       "      <td>Mexican Restaurant</td>\n",
       "      <td>San Diego</td>\n",
       "      <td>US</td>\n",
       "      <td>Mexican</td>\n",
       "      <td>2015-10-23T02:21:55Z</td>\n",
       "      <td>2015-11-02T15:47:29Z</td>\n",
       "      <td>us/or/portland/10090sewashingtonst/-1322134216</td>\n",
       "      <td>http://www.yellowpages.com/long-beach-ca/mip/e...</td>\n",
       "      <td>Tacos</td>\n",
       "      <td>USD</td>\n",
       "      <td>2016-04-24T00:00:00Z</td>\n",
       "      <td>Crunchy corn tortilla, spicy beef, american ch...</td>\n",
       "      <td>Breakfast Burrito</td>\n",
       "      <td>Chili's Grill &amp; Bar</td>\n",
       "      <td>92110</td>\n",
       "      <td>USD</td>\n",
       "      <td>CA</td>\n",
       "      <td>http://chilis.com</td>\n",
       "    </tr>\n",
       "    <tr>\n",
       "      <th>freq</th>\n",
       "      <td>68</td>\n",
       "      <td>69</td>\n",
       "      <td>15094</td>\n",
       "      <td>1924</td>\n",
       "      <td>77260</td>\n",
       "      <td>6280</td>\n",
       "      <td>79</td>\n",
       "      <td>68</td>\n",
       "      <td>68</td>\n",
       "      <td>53</td>\n",
       "      <td>291</td>\n",
       "      <td>40495</td>\n",
       "      <td>821</td>\n",
       "      <td>1087</td>\n",
       "      <td>3188</td>\n",
       "      <td>8296</td>\n",
       "      <td>240</td>\n",
       "      <td>48158</td>\n",
       "      <td>23664</td>\n",
       "      <td>2923</td>\n",
       "    </tr>\n",
       "  </tbody>\n",
       "</table>\n",
       "</div>"
      ],
      "text/plain": [
       "                          id             address          categories  \\\n",
       "count                  77260               77260               77260   \n",
       "unique                 19439               18618                8488   \n",
       "top     AVwch4pVByjofQCxfPyl  3000 N Dinuba Blvd  Mexican Restaurant   \n",
       "freq                      68                  69               15094   \n",
       "\n",
       "             city country cuisines             dateAdded  \\\n",
       "count       77260   77260    38384                 77260   \n",
       "unique       3601       1     1588                 17965   \n",
       "top     San Diego      US  Mexican  2015-10-23T02:21:55Z   \n",
       "freq         1924   77260     6280                    79   \n",
       "\n",
       "                 dateUpdated                                            keys  \\\n",
       "count                  77260                                           77260   \n",
       "unique                 17675                                           19438   \n",
       "top     2015-11-02T15:47:29Z  us/or/portland/10090sewashingtonst/-1322134216   \n",
       "freq                      68                                              68   \n",
       "\n",
       "                                              menuPageURL menus.category  \\\n",
       "count                                               10054           3729   \n",
       "unique                                               2600            962   \n",
       "top     http://www.yellowpages.com/long-beach-ca/mip/e...          Tacos   \n",
       "freq                                                   53            291   \n",
       "\n",
       "       menus.currency        menus.dateSeen  \\\n",
       "count           40511                 77260   \n",
       "unique              2                 18453   \n",
       "top               USD  2016-04-24T00:00:00Z   \n",
       "freq            40495                   821   \n",
       "\n",
       "                                        menus.description         menus.name  \\\n",
       "count                                               29323              77260   \n",
       "unique                                              15730              15737   \n",
       "top     Crunchy corn tortilla, spicy beef, american ch...  Breakfast Burrito   \n",
       "freq                                                 1087               3188   \n",
       "\n",
       "                       name postalCode priceRangeCurrency province  \\\n",
       "count                 77257      76837              48159    77257   \n",
       "unique                10526       7463                  2     1097   \n",
       "top     Chili's Grill & Bar      92110                USD       CA   \n",
       "freq                   8296        240              48158    23664   \n",
       "\n",
       "                 websites  \n",
       "count               55989  \n",
       "unique               9238  \n",
       "top     http://chilis.com  \n",
       "freq                 2923  "
      ]
     },
     "execution_count": 133,
     "metadata": {},
     "output_type": "execute_result"
    }
   ],
   "source": [
    "df.describe(include='O') # Categorical columns"
   ]
  },
  {
   "cell_type": "markdown",
   "metadata": {},
   "source": [
    "The dataframe contains a total of 236 columns. There are 216 numeric columns and 20 categorical columns. The total number of rows is 77.260. The first 26 columns are named while the rest are called 'Unnamed: NUM'."
   ]
  },
  {
   "cell_type": "code",
   "execution_count": 267,
   "metadata": {},
   "outputs": [],
   "source": [
    "df = df.iloc[:,0:26] # Select range of columns"
   ]
  },
  {
   "cell_type": "markdown",
   "metadata": {},
   "source": [
    "**TASK 1**"
   ]
  },
  {
   "cell_type": "code",
   "execution_count": 182,
   "metadata": {},
   "outputs": [
    {
     "name": "stdout",
     "output_type": "stream",
     "text": [
      "Before clean, length dataframe: 77260\n"
     ]
    }
   ],
   "source": [
    "print(\"Before clean, length dataframe:\",len(df))"
   ]
  },
  {
   "cell_type": "code",
   "execution_count": 268,
   "metadata": {},
   "outputs": [],
   "source": [
    "# Clean NAs or NaN from the column cuisine\n",
    "\n",
    "df = df.dropna(subset = [\"cuisines\"])"
   ]
  },
  {
   "cell_type": "markdown",
   "metadata": {},
   "source": [
    "The data is not duplicated so we do not need to clean it after removing the NAs."
   ]
  },
  {
   "cell_type": "code",
   "execution_count": 184,
   "metadata": {},
   "outputs": [
    {
     "name": "stdout",
     "output_type": "stream",
     "text": [
      "After clean, length dataframe: 38384\n"
     ]
    }
   ],
   "source": [
    "print(\"After clean, length dataframe:\",len(df))"
   ]
  },
  {
   "cell_type": "code",
   "execution_count": 185,
   "metadata": {},
   "outputs": [
    {
     "data": {
      "text/plain": [
       "0      Restaurant Delivery Service\n",
       "1      Restaurant Delivery Service\n",
       "4                          Mexican\n",
       "5                          Mexican\n",
       "6                          Mexican\n",
       "7                          Mexican\n",
       "8                          Mexican\n",
       "9                          Mexican\n",
       "10                         Mexican\n",
       "11                         Mexican\n",
       "12                         Mexican\n",
       "13                         Mexican\n",
       "14                         Mexican\n",
       "15                    Coffee Shops\n",
       "16                    Coffee Shops\n",
       "17                    Coffee Shops\n",
       "18         Mexican, Latin American\n",
       "19         Mexican, Latin American\n",
       "21    American,Seafood Restaurants\n",
       "22    American,Seafood Restaurants\n",
       "Name: cuisines, dtype: object"
      ]
     },
     "execution_count": 185,
     "metadata": {},
     "output_type": "execute_result"
    }
   ],
   "source": [
    "df[\"cuisines\"].head(20)"
   ]
  },
  {
   "cell_type": "markdown",
   "metadata": {},
   "source": [
    "There are no NaN values but we still have an issue with the data, some rowd contains values divided by comma. Example, 'Mexican, Latin American'. We need to remove that issues."
   ]
  },
  {
   "cell_type": "code",
   "execution_count": 300,
   "metadata": {},
   "outputs": [],
   "source": [
    "# Match name and cuisine after split by comma cuisine and finally select column 'index'\n",
    "\n",
    "df2 = pd.concat([pd.Series(row[\"name\"], row[\"cuisines\"].split(',')) for _, row in df.iterrows()]).reset_index()\n",
    "df2.rename(columns={'index':'cuisines',0:'name'}, inplace=True)"
   ]
  },
  {
   "cell_type": "code",
   "execution_count": 272,
   "metadata": {},
   "outputs": [],
   "source": [
    "# Check result\n",
    "\n",
    "# df2[\"cuisines\"].unique()"
   ]
  },
  {
   "cell_type": "markdown",
   "metadata": {},
   "source": [
    "We have corrected the comma separated rows but we can see that there are slash (between spaces) separated rows. For example, \"Bar / Lounge / Bottle Service\". We should not worry about it since is the same definition. However, we can divide them using the following code:"
   ]
  },
  {
   "cell_type": "code",
   "execution_count": 126,
   "metadata": {},
   "outputs": [],
   "source": [
    "# Match name and cuisine after split by slash between spaces ( / ) cuisine \n",
    "# and finally select column 'index'\n",
    "\n",
    "# df2 = pd.concat([pd.Series(row[\"name\"], row[\"cuisines\"].split(' / ')) for _, row in temp.iterrows()]).reset_index()\n",
    "# df2.rename(columns={'index':'cuisines',0:'name'}, inplace=True)"
   ]
  },
  {
   "cell_type": "code",
   "execution_count": 273,
   "metadata": {},
   "outputs": [],
   "source": [
    "# Check result\n",
    "\n",
    "# df2[\"cuisines\"].unique()"
   ]
  },
  {
   "cell_type": "markdown",
   "metadata": {},
   "source": [
    "Finally, the last issue we have is that there are cuisines that for us are equal but for the count seem different. For example, ' Mexican' and 'Mexican' (space before word). Also, 'Mexican' and 'Mexican Restaurants' could be an issue because we know both are Mexican cuisines but they are defined different. We will only correct the first issues to make it simple.\n",
    "\n",
    "Also, before selecting the column cuisine we need to get a unique hit per food place (name) so we avoid repeated entries."
   ]
  },
  {
   "cell_type": "code",
   "execution_count": 302,
   "metadata": {},
   "outputs": [],
   "source": [
    "#Remove duplicates\n",
    "df2 = df2.drop_duplicates()"
   ]
  },
  {
   "cell_type": "code",
   "execution_count": 307,
   "metadata": {},
   "outputs": [],
   "source": [
    "# Remove spaces from values\n",
    "df2 = df2[\"cuisines\"].apply(lambda x: x.strip(\" \"))"
   ]
  },
  {
   "cell_type": "code",
   "execution_count": 308,
   "metadata": {},
   "outputs": [],
   "source": [
    "# Check that it worked\n",
    "# for i in df2[\"cuisines\"].apply(lambda x: x.strip(\" \")).unique():\n",
    "#    if 'Mexican' in i:\n",
    "#        print(i)"
   ]
  },
  {
   "cell_type": "code",
   "execution_count": 309,
   "metadata": {},
   "outputs": [
    {
     "data": {
      "text/plain": [
       "0        Restaurant Delivery Service\n",
       "2                            Mexican\n",
       "13                      Coffee Shops\n",
       "16                           Mexican\n",
       "17                    Latin American\n",
       "                    ...             \n",
       "55730                        Mexican\n",
       "55737                        Mexican\n",
       "55738                        Spanish\n",
       "55743                            Pub\n",
       "55754                        Mexican\n",
       "Name: cuisines, Length: 9872, dtype: object"
      ]
     },
     "execution_count": 309,
     "metadata": {},
     "output_type": "execute_result"
    }
   ],
   "source": [
    "df2"
   ]
  },
  {
   "cell_type": "markdown",
   "metadata": {},
   "source": [
    "Our data is clean now and we can go to the second task. We have a total of 9.872 entries (it should be less if we account for equal types with different labels)."
   ]
  },
  {
   "cell_type": "markdown",
   "metadata": {},
   "source": [
    "**TASK 2**"
   ]
  },
  {
   "cell_type": "markdown",
   "metadata": {},
   "source": [
    "Using the support information, for the second task, we are interested in the columns:\n",
    "\n",
    "    'name'\n",
    "    'cuisines'"
   ]
  },
  {
   "cell_type": "code",
   "execution_count": 311,
   "metadata": {},
   "outputs": [],
   "source": [
    "# Count the number of times a  cuisine appears.\n",
    "\n",
    "result = df2.value_counts()"
   ]
  },
  {
   "cell_type": "code",
   "execution_count": 312,
   "metadata": {},
   "outputs": [
    {
     "data": {
      "text/plain": [
       "American                      1130\n",
       "Mexican                        931\n",
       "Mexican Restaurants            438\n",
       "Contemporary American          426\n",
       "Take Out Restaurants           409\n",
       "Seafood                        367\n",
       "American Restaurants           321\n",
       "Restaurants                    308\n",
       "Pizza                          271\n",
       "Latin American Restaurants     241\n",
       "Name: cuisines, dtype: int64"
      ]
     },
     "execution_count": 312,
     "metadata": {},
     "output_type": "execute_result"
    }
   ],
   "source": [
    "result[0:10]"
   ]
  },
  {
   "cell_type": "markdown",
   "metadata": {},
   "source": [
    "The top 10 ranking of best cuisines in the database shows that the most populat cuisines is _American_ with 1130 food places. It is followed by _Mexican_ and _Mexican Restaurants_.\n",
    "\n",
    "However, if we sum the 2nd and 3rd option (which are equal in a sense) and the 1st and 8th option, we end up with:\n",
    "\n",
    "    American 1130 + 321 = 1451\n",
    "    Mexican  931  + 438 = 1369\n",
    "    \n",
    "The first place is still for _American_ followed by _Mexican_."
   ]
  },
  {
   "cell_type": "markdown",
   "metadata": {},
   "source": [
    "##### SOLUTION (PYSPARK)"
   ]
  },
  {
   "cell_type": "code",
   "execution_count": 1,
   "metadata": {},
   "outputs": [],
   "source": [
    "from pyspark import SparkConf, SparkContext\n",
    "from pyspark.sql.types import StringType\n",
    "from pyspark import SQLContext\n",
    "from pyspark.sql.functions import col\n",
    "\n",
    "conf = SparkConf().setMaster(\"local\").setAppName(\"Local-Spark\")\n",
    "sc = SparkContext(conf = conf)\n",
    "sqlContext = SQLContext(sc)"
   ]
  },
  {
   "cell_type": "code",
   "execution_count": 101,
   "metadata": {},
   "outputs": [],
   "source": [
    "# Read data\n",
    "\n",
    "dfspark = sqlContext.read.format(\"csv\").option(\"header\",\"true\").option(\"inferSchema\",\"true\").load(\"/home/agomez/MEGA/Cursos/Linkedin-Spark/tacos_and_burritos.csv\")"
   ]
  },
  {
   "cell_type": "code",
   "execution_count": 102,
   "metadata": {},
   "outputs": [],
   "source": [
    "# Select columns of interest (name & cousines)\n",
    "\n",
    "dfspark = dfspark.select(\"name\",\"cuisines\")"
   ]
  },
  {
   "cell_type": "code",
   "execution_count": 103,
   "metadata": {},
   "outputs": [
    {
     "data": {
      "text/plain": [
       "[Row(name=\"Gambino's Pizza\", cuisines='Restaurant Delivery Service'),\n",
       " Row(name=\"Gambino's Pizza\", cuisines='Restaurant Delivery Service'),\n",
       " Row(name='Diablo Grande Golf & Country Club', cuisines=None),\n",
       " Row(name=\"Mcdonald's\", cuisines=None),\n",
       " Row(name='Baja Fresh Mexican Grill', cuisines='Mexican')]"
      ]
     },
     "execution_count": 103,
     "metadata": {},
     "output_type": "execute_result"
    }
   ],
   "source": [
    "# Show data\n",
    "\n",
    "dfspark.take(5)"
   ]
  },
  {
   "cell_type": "code",
   "execution_count": 104,
   "metadata": {},
   "outputs": [],
   "source": [
    "# Clean NaN\n",
    "\n",
    "dfspark = dfspark.na.drop(subset = [\"name\",\"cuisines\"])"
   ]
  },
  {
   "cell_type": "code",
   "execution_count": 105,
   "metadata": {},
   "outputs": [],
   "source": [
    "# Remove duplicates, after ordering them by name, for same restaurant/food place\n",
    "\n",
    "dfspark = dfspark.orderBy(\"name\").dropDuplicates(subset = [\"name\"])"
   ]
  },
  {
   "cell_type": "code",
   "execution_count": 106,
   "metadata": {},
   "outputs": [
    {
     "data": {
      "text/plain": [
       "[Row(name='#9 Steakhouse', cuisines='Steak Houses'),\n",
       " Row(name='$5 Pizza', cuisines='Pizza'),\n",
       " Row(name=\"'Tis Corner Cafe\", cuisines='Bagels'),\n",
       " Row(name='024 Grille', cuisines='Contemporary American, American, Wine Bar'),\n",
       " Row(name='100% De Agave', cuisines='Contemporary Mexican, Bar / Lounge / Bottle Service,Mexican')]"
      ]
     },
     "execution_count": 106,
     "metadata": {},
     "output_type": "execute_result"
    }
   ],
   "source": [
    "# Show data\n",
    "\n",
    "dfspark.take(5)"
   ]
  },
  {
   "cell_type": "markdown",
   "metadata": {},
   "source": [
    "After cleaning, we have the name one time and the cuisine type of the food place. Now, we can divide the data given the delimiter. In this case, we can stop using the column 'name'."
   ]
  },
  {
   "cell_type": "code",
   "execution_count": 189,
   "metadata": {},
   "outputs": [],
   "source": [
    "# Parallelize \n",
    "\n",
    "pl_df = sc.parallelize(dfspark.select(\"cuisines\").rdd.collect())"
   ]
  },
  {
   "cell_type": "code",
   "execution_count": 190,
   "metadata": {},
   "outputs": [],
   "source": [
    "def split_delimiters(row):\n",
    "    row = row[0]\n",
    "    row = row.replace(\" \",\"\")\n",
    "    row = row.split(\",\")\n",
    "    return row"
   ]
  },
  {
   "cell_type": "code",
   "execution_count": 191,
   "metadata": {},
   "outputs": [],
   "source": [
    "results = pl_df.flatMap(split_delimiters)"
   ]
  },
  {
   "cell_type": "code",
   "execution_count": 192,
   "metadata": {},
   "outputs": [
    {
     "data": {
      "text/plain": [
       "['SteakHouses',\n",
       " 'Pizza',\n",
       " 'Bagels',\n",
       " 'ContemporaryAmerican',\n",
       " 'American',\n",
       " 'WineBar',\n",
       " 'ContemporaryMexican',\n",
       " 'Bar/Lounge/BottleService',\n",
       " 'Mexican',\n",
       " 'Casinos']"
      ]
     },
     "execution_count": 192,
     "metadata": {},
     "output_type": "execute_result"
    }
   ],
   "source": [
    "results.collect()[0:10]"
   ]
  },
  {
   "cell_type": "code",
   "execution_count": 193,
   "metadata": {},
   "outputs": [],
   "source": [
    "# Add a 1 at the right of each value\n",
    "\n",
    "results = results.map(lambda cousin: (cuisin,1))"
   ]
  },
  {
   "cell_type": "code",
   "execution_count": 194,
   "metadata": {},
   "outputs": [],
   "source": [
    "# Some all the 1's in the right of the values with same key\n",
    "\n",
    "results = results.reduceByKey(lambda cuisin,num: cuisin+num)"
   ]
  },
  {
   "cell_type": "code",
   "execution_count": 196,
   "metadata": {},
   "outputs": [
    {
     "data": {
      "text/plain": [
       "[('American', 1071),\n",
       " ('Mexican', 819),\n",
       " ('ContemporaryAmerican', 422),\n",
       " ('MexicanRestaurants', 388),\n",
       " ('Seafood', 360),\n",
       " ('TakeOutRestaurants', 351),\n",
       " ('AmericanRestaurants', 292),\n",
       " ('Pizza', 251),\n",
       " ('Restaurants', 245),\n",
       " ('LatinAmericanRestaurants', 216),\n",
       " ('CoffeeShops', 173),\n",
       " ('Bars', 151),\n",
       " ('Italian', 151),\n",
       " ('ComfortFood', 139),\n",
       " ('TraditionalAmerican', 135),\n",
       " ('Californian', 107),\n",
       " ('Steakhouse', 106),\n",
       " ('Steak', 102),\n",
       " ('Caterers', 96),\n",
       " ('International', 82),\n",
       " ('Bar/Lounge/BottleService', 81),\n",
       " ('GastroPub', 80),\n",
       " ('Japanese', 74),\n",
       " ('LatinAmerican', 73),\n",
       " ('Mediterranean', 73),\n",
       " ('Burgers', 70),\n",
       " ('Asian', 70),\n",
       " ('Tapas/SmallPlates', 67),\n",
       " ('Sushi', 64),\n",
       " ('FastFoodRestaurants', 64),\n",
       " ('Mexican/Southwestern', 59),\n",
       " ('Fusion/Eclectic', 58),\n",
       " ('FamilyStyleRestaurants', 58),\n",
       " ('ContemporaryMexican', 52),\n",
       " ('SeafoodRestaurants', 49),\n",
       " ('Vegetarian', 48),\n",
       " ('Global', 48),\n",
       " ('NewAmerican', 48),\n",
       " ('Barbecue', 48),\n",
       " ('Spanish', 46),\n",
       " ('Organic', 46),\n",
       " ('SushiBars', 42),\n",
       " ('ItalianRestaurants', 39),\n",
       " ('BarbecueRestaurants', 38),\n",
       " ('Vegetarian/Vegan', 38),\n",
       " ('WineBar', 37),\n",
       " ('French', 36),\n",
       " ('Hamburgers', 34),\n",
       " ('Latin/Spanish', 33),\n",
       " ('Southwest', 32),\n",
       " ('Southern', 31),\n",
       " ('Cafe', 30),\n",
       " ('Taverns', 28),\n",
       " ('Irish', 28),\n",
       " ('Delicatessens', 28),\n",
       " ('Vegan', 27),\n",
       " ('Northwest', 24),\n",
       " ('JapaneseRestaurants', 24),\n",
       " ('Tex-Mex', 24),\n",
       " ('Continental', 24),\n",
       " ('SteakHouses', 23),\n",
       " ('MediterraneanRestaurants', 23),\n",
       " ('Cafeterias', 23),\n",
       " ('Latin', 22),\n",
       " ('Deli', 22),\n",
       " ('Pizzeria', 22),\n",
       " ('TraditionalMexican', 20),\n",
       " ('Greek', 19),\n",
       " ('Southwestern', 19),\n",
       " ('SouthAmerican', 19),\n",
       " ('NightClubs', 18),\n",
       " ('SandwichShops', 18),\n",
       " ('Diner', 18),\n",
       " ('CocktailLounges', 18),\n",
       " ('Soups', 18),\n",
       " ('FastFood', 18),\n",
       " ('Caribbean', 17),\n",
       " ('Chinese', 17),\n",
       " ('Brewery', 17),\n",
       " ('SportsBars', 16),\n",
       " ('Bistro', 15),\n",
       " ('FrenchAmerican', 15),\n",
       " ('HealthFood', 15),\n",
       " ('Thai', 14),\n",
       " ('RegionalMexican', 14),\n",
       " ('AsianRestaurants', 14),\n",
       " ('Korean', 14),\n",
       " ('BrewPubs', 13),\n",
       " ('Pan-Asian', 13),\n",
       " ('Bakeries', 12),\n",
       " ('VegetarianFriendly', 12),\n",
       " ('American(Traditional)', 12),\n",
       " ('Pub', 12),\n",
       " ('Sandwiches', 11),\n",
       " ('ChineseRestaurants', 11),\n",
       " ('VegetarianRestaurants', 11),\n",
       " ('American(New)', 11),\n",
       " ('Chicken', 11),\n",
       " ('ContemporaryFrench/American', 11),\n",
       " ('Delicatessen', 11),\n",
       " ('Bar', 10),\n",
       " ('Creole/Cajun/Southern', 10),\n",
       " ('Bagels', 9),\n",
       " ('Indian', 9),\n",
       " ('European', 9),\n",
       " ('Cuban', 9),\n",
       " ('ContemporaryAsian', 8),\n",
       " ('GlutenFreeOptions', 8),\n",
       " ('Hawaiian', 8),\n",
       " ('Dessert', 7),\n",
       " ('HawaiiRegionalCuisine', 7),\n",
       " ('Peruvian', 7),\n",
       " ('ContemporarySouthern', 7),\n",
       " ('English', 7),\n",
       " ('Hotels', 6),\n",
       " ('CoffeeShop', 6),\n",
       " ('ContemporaryFrench', 6),\n",
       " ('PrimeRib', 6),\n",
       " ('Salads', 6),\n",
       " ('ChickenRestaurants', 6),\n",
       " ('GreekRestaurants', 6),\n",
       " ('Wings', 6),\n",
       " ('HotDogs', 6),\n",
       " ('BreakfastandBrunch', 5),\n",
       " ('MiddleEastern', 5),\n",
       " ('FrenchRestaurants', 5),\n",
       " ('Cajun', 5),\n",
       " ('Breakfast', 5),\n",
       " ('BarFood', 5),\n",
       " ('ContemporaryItalian', 5),\n",
       " ('VietnameseRestaurants', 5),\n",
       " ('WildGame', 4),\n",
       " ('SpanishRestaurants', 4),\n",
       " ('Contemporary', 4),\n",
       " ('FineDiningRestaurants', 4),\n",
       " ('Fusion', 4),\n",
       " ('MexicanDescription', 4),\n",
       " ('ContemporaryEuropean', 4),\n",
       " ('ContinentalRestaurants', 4),\n",
       " ('BuffetRestaurants', 4),\n",
       " ('Healthy', 4),\n",
       " ('ThaiRestaurants', 4),\n",
       " ('Soulfood', 4),\n",
       " ('Brazilian', 4),\n",
       " ('HealthFoodRestaurants', 4),\n",
       " ('Gastropub', 4),\n",
       " ('BeerGarden', 4),\n",
       " ('Tapas', 3),\n",
       " ('Delis', 3),\n",
       " ('Colombian', 3),\n",
       " ('VeganOptions', 3),\n",
       " ('Kosher', 3),\n",
       " ('PoolHalls', 3),\n",
       " ('Grocers-EthnicFoods', 3),\n",
       " ('AsianFusion', 3),\n",
       " ('ContemporaryIndian', 3),\n",
       " ('Creole', 3),\n",
       " ('British', 3),\n",
       " ('OysterBar', 3),\n",
       " ('DonutShops', 3),\n",
       " ('MiddleEasternRestaurants', 3),\n",
       " ('Bakery', 3),\n",
       " ('Cheesesteaks', 3),\n",
       " ('Desserts', 3),\n",
       " ('Wraps', 3),\n",
       " ('Burgers/HotDogs', 3),\n",
       " ('FrenchFries/OnionRings', 3),\n",
       " ('Calzones', 3),\n",
       " ('Hoagies/Grinders/Subs/Gyros', 3),\n",
       " ('WhitePizza', 3),\n",
       " ('Pasta', 3),\n",
       " ('IndianRestaurants', 3),\n",
       " ('IrishRestaurants', 3),\n",
       " ('ModernEuropean', 3),\n",
       " ('Burmese', 2),\n",
       " ('Israeli', 2),\n",
       " ('DiningBar', 2),\n",
       " ('Belgian', 2),\n",
       " ('Fish', 2),\n",
       " ('EasternEuropean', 2),\n",
       " ('PuertoRican', 2),\n",
       " ('SteakHouse', 2),\n",
       " ('Moroccan', 2),\n",
       " ('Motels', 2),\n",
       " ('Portuguese', 2),\n",
       " ('FamilyStyle', 2),\n",
       " ('CentralAmerican', 2),\n",
       " ('Grill', 2),\n",
       " ('RestaurantDeliveryService', 2),\n",
       " ('SouthAfrican', 2),\n",
       " ('Coffeehouse', 2),\n",
       " ('PizzaByTheSlice', 2),\n",
       " ('NewYorkStylePizza', 2),\n",
       " ('Stromboli', 2),\n",
       " ('CubanRestaurants', 2),\n",
       " ('MexicanCuisine', 2),\n",
       " ('CaribbeanRestaurants', 2),\n",
       " ('Filipino', 2),\n",
       " ('Vietnamese', 2),\n",
       " ('Australian', 2),\n",
       " ('Casinos', 1),\n",
       " ('CoffeeandTea', 1),\n",
       " ('Indonesian', 1),\n",
       " ('SmallPlates', 1),\n",
       " ('Afghan', 1),\n",
       " ('NativeAmerican', 1),\n",
       " ('SandwichesCuisine', 1),\n",
       " ('FamilyStyleCuisine', 1),\n",
       " ('AmericanCuisine', 1),\n",
       " ('FoodDeliveryService', 1),\n",
       " ('Argentinean', 1),\n",
       " ('FamilyFare', 1),\n",
       " ('Ranches', 1),\n",
       " ('Coffee', 1),\n",
       " ('Smoothies', 1),\n",
       " ('Tea', 1),\n",
       " ('FoodProducts', 1),\n",
       " ('FriedChicken', 1),\n",
       " ('Specialties', 1),\n",
       " ('Traditional', 1),\n",
       " ('Cheesesteak', 1),\n",
       " ('Yogurt', 1),\n",
       " ('Steakhouses', 1),\n",
       " ('Buffet', 1),\n",
       " ('Persian', 1),\n",
       " ('BrazilianSteakhouse', 1),\n",
       " ('Canadian', 1),\n",
       " ('Asian/Pacific', 1),\n",
       " ('TeaDescription', 1),\n",
       " ('PartyTrays', 1),\n",
       " ('HomemadeDough', 1),\n",
       " ('HomemadePasta', 1),\n",
       " ('Antipasta', 1),\n",
       " ('FullDelicatessen', 1),\n",
       " ('WholeWheatCrust', 1),\n",
       " ('SicilianPizza', 1),\n",
       " ('TomatoPie', 1),\n",
       " ('NeapolitanStylePizza', 1),\n",
       " ('ItalianDishes', 1),\n",
       " ('VegetarianToppings', 1),\n",
       " ('BrickOvenPizza', 1),\n",
       " ('StoneBakedPizza', 1),\n",
       " ('DeepSkillet/PanPizza', 1),\n",
       " ('SeafoodDishes', 1),\n",
       " ('Juices', 1),\n",
       " ('VeganRestaurants', 1),\n",
       " ('Resorts', 1),\n",
       " ('Homecooking', 1),\n",
       " ('German', 1),\n",
       " ('Karaoke', 1),\n",
       " ('Polynesian', 1),\n",
       " ('Lebanese', 1),\n",
       " ('Russian', 1),\n",
       " ('Jamaican', 1),\n",
       " ('KosherRestaurants', 1),\n",
       " ('Vegetarian-Friendly', 1),\n",
       " ('Lounge', 1),\n",
       " ('French/Canadian', 1),\n",
       " ('Breakfast/Brunch', 1),\n",
       " ('Swedish', 1),\n",
       " ('AfternoonTea', 1),\n",
       " ('Fries', 1),\n",
       " ('Shakes', 1),\n",
       " ('Eclectic', 1),\n",
       " ('BurgersDescription', 1),\n",
       " ('Salvadoran', 1),\n",
       " ('Fondue', 1),\n",
       " ('Countrykitchen', 1),\n",
       " ('Sandwiches/Subs', 1),\n",
       " ('MexicanGoods', 1),\n",
       " ('Hibachi', 1),\n",
       " ('LowCountry', 1),\n",
       " ('ItalianGroceryStores', 1),\n",
       " ('SoulFood', 1),\n",
       " ('salate', 1),\n",
       " ('burritos', 1),\n",
       " ('quesadillas', 1),\n",
       " ('salsa', 1),\n",
       " ('beilagen', 1),\n",
       " ('extras', 1),\n",
       " ('ConvenienceStores', 1),\n",
       " ('PacificRim', 1),\n",
       " ('MeatMarkets', 1),\n",
       " ('HotChicken', 1),\n",
       " ('Provencal', 1),\n",
       " ('GolfCourses', 1),\n",
       " ('FishingPiers', 1),\n",
       " ('Lodging', 1),\n",
       " ('Donuts', 1),\n",
       " ('Noodle', 1),\n",
       " ('Pretzels', 1),\n",
       " ('Regiomontana', 1),\n",
       " ('French(Bistro)', 1),\n",
       " ('SouthernAmerican', 1),\n",
       " ('WholesaleMeat', 1),\n",
       " ('GourmetShops', 1),\n",
       " ('Farm-to-table', 1),\n",
       " ('GlutenFree', 1),\n",
       " ('SmallPlates/Tapas', 1),\n",
       " ('Cocktails', 1),\n",
       " ('French/Japanese', 1),\n",
       " ('SocialServiceOrganizations', 1),\n",
       " ('Bowling', 1),\n",
       " ('Beverages', 1),\n",
       " ('Asianfusion', 1),\n",
       " ('HawaiianRestaurants', 1)]"
      ]
     },
     "execution_count": 196,
     "metadata": {},
     "output_type": "execute_result"
    }
   ],
   "source": [
    "results.sortBy(lambda tupple: tupple[1], ascending=False).collect()"
   ]
  },
  {
   "cell_type": "markdown",
   "metadata": {},
   "source": [
    "**Or**"
   ]
  },
  {
   "cell_type": "code",
   "execution_count": 223,
   "metadata": {},
   "outputs": [],
   "source": [
    "# As before\n",
    "results = pl_df.flatMap(split_delimiters)"
   ]
  },
  {
   "cell_type": "code",
   "execution_count": 224,
   "metadata": {},
   "outputs": [],
   "source": [
    "# Use function countByValue() which returns a dictionary\n",
    "results = results.countByValue()"
   ]
  },
  {
   "cell_type": "code",
   "execution_count": 213,
   "metadata": {},
   "outputs": [
    {
     "data": {
      "text/plain": [
       "['American',\n",
       " 'Mexican',\n",
       " 'ContemporaryAmerican',\n",
       " 'MexicanRestaurants',\n",
       " 'Seafood',\n",
       " 'TakeOutRestaurants',\n",
       " 'AmericanRestaurants',\n",
       " 'Pizza',\n",
       " 'Restaurants',\n",
       " 'LatinAmericanRestaurants']"
      ]
     },
     "execution_count": 213,
     "metadata": {},
     "output_type": "execute_result"
    }
   ],
   "source": [
    "# Sort dictionary (reverse) and show top 10\n",
    "\n",
    "sorted(results, key=results.get, reverse=True)[0:10]"
   ]
  },
  {
   "cell_type": "code",
   "execution_count": 225,
   "metadata": {},
   "outputs": [
    {
     "name": "stdout",
     "output_type": "stream",
     "text": [
      "American : 1071\n",
      "Mexican : 819\n",
      "ContemporaryAmerican : 422\n",
      "MexicanRestaurants : 388\n",
      "Seafood : 360\n",
      "TakeOutRestaurants : 351\n",
      "AmericanRestaurants : 292\n",
      "Pizza : 251\n",
      "Restaurants : 245\n",
      "LatinAmericanRestaurants : 216\n"
     ]
    }
   ],
   "source": [
    "# Finally, print keys and values\n",
    "\n",
    "top10 = sorted(results, key=results.get, reverse=True)[0:10]\n",
    "\n",
    "for value in top10:\n",
    "    print(value, \":\", results[value])"
   ]
  }
 ],
 "metadata": {
  "kernelspec": {
   "display_name": "Python3.7.9-Spark",
   "language": "python",
   "name": "python3.7.9-spark"
  },
  "language_info": {
   "codemirror_mode": {
    "name": "ipython",
    "version": 3
   },
   "file_extension": ".py",
   "mimetype": "text/x-python",
   "name": "python",
   "nbconvert_exporter": "python",
   "pygments_lexer": "ipython3",
   "version": "3.7.9"
  }
 },
 "nbformat": 4,
 "nbformat_minor": 4
}
